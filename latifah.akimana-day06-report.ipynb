{
 "cells": [
  {
   "cell_type": "markdown",
   "metadata": {},
   "source": [
    "# <center>Flow control</center>"
   ]
  },
  {
   "cell_type": "code",
   "execution_count": 1,
   "metadata": {},
   "outputs": [
    {
     "name": "stdout",
     "output_type": "stream",
     "text": [
      "Smaller\n"
     ]
    }
   ],
   "source": [
    "a = 34\n",
    "if (a > 50):\n",
    "    print(\"Bigger\")\n",
    "else:\n",
    "    print(\"Smaller\")\n"
   ]
  },
  {
   "cell_type": "markdown",
   "metadata": {},
   "source": [
    "if ... elif ... else"
   ]
  },
  {
   "cell_type": "code",
   "execution_count": 5,
   "metadata": {},
   "outputs": [
    {
     "name": "stdout",
     "output_type": "stream",
     "text": [
      "0 is zero\n"
     ]
    }
   ],
   "source": [
    "x = 0\n",
    "if x > 0:\n",
    "    print(x, \"is positive\")\n",
    "elif x < 0:\n",
    "    print (x, \"is negative\")\n",
    "else:\n",
    "    print(x, \"is zero\")"
   ]
  },
  {
   "cell_type": "markdown",
   "metadata": {},
   "source": []
  },
  {
   "cell_type": "markdown",
   "metadata": {},
   "source": [
    "### Nested clauses"
   ]
  },
  {
   "cell_type": "markdown",
   "metadata": {},
   "source": [
    "if condition\n",
    " instructions\n",
    "  if ...\n",
    "  else ...\n",
    "  "
   ]
  },
  {
   "cell_type": "code",
   "execution_count": 7,
   "metadata": {},
   "outputs": [
    {
     "name": "stdout",
     "output_type": "stream",
     "text": [
      "15 is greater than 10\n",
      "The diff is ... 5\n"
     ]
    }
   ],
   "source": [
    "a = 15\n",
    "b = 10\n",
    "if a > b:\n",
    "    print(a, \"is greater than\", b)\n",
    "    if (a - b > 5):\n",
    "        print(\"The difference is\", a-b)\n",
    "    else:\n",
    "        print(\"The diff is ...\", a-b)\n",
    "else:\n",
    "    print(b , \"is greater than\", a)\n",
    "\n"
   ]
  },
  {
   "cell_type": "markdown",
   "metadata": {},
   "source": [
    "### Exercise"
   ]
  },
  {
   "cell_type": "code",
   "execution_count": 12,
   "metadata": {},
   "outputs": [
    {
     "name": "stdout",
     "output_type": "stream",
     "text": [
      "This is not a quadratic equation\n"
     ]
    }
   ],
   "source": [
    "a = int(input(\"Enter a: \"))\n",
    "b = int(input(\"Enter b: \"))\n",
    "c = int(input(\"Enter c: \"))\n",
    "\n",
    "if(a != 0):\n",
    " delta = (b**2) - 4*a*c\n",
    " if (delta > 0):\n",
    "    print(\"We have two real distint roots\")\n",
    "    x1 = -b + Math.sqrt(delta)/2*a\n",
    "    x2 = -b + Math.sqrt(delta)/2*a\n",
    "    print(\"The real roots are:\", x1, x2)\n",
    " elif (delta == 0):\n",
    "    x = -b + Math.sqrt(delta)/2*a\n",
    "    print(\"The real root x is :\", x)\n",
    " else:\n",
    "    print(\"We have complex roots\")\n",
    "else:\n",
    "   print(\"This is not a quadratic equation\")"
   ]
  },
  {
   "cell_type": "markdown",
   "metadata": {},
   "source": [
    "### Loops"
   ]
  },
  {
   "cell_type": "markdown",
   "metadata": {},
   "source": [
    "### while\n"
   ]
  },
  {
   "cell_type": "raw",
   "metadata": {
    "vscode": {
     "languageId": "raw"
    }
   },
   "source": [
    "Initialize increment variable\n",
    "while condition:\n",
    " block_of_instructions\n",
    " increment"
   ]
  },
  {
   "cell_type": "markdown",
   "metadata": {},
   "source": []
  },
  {
   "cell_type": "markdown",
   "metadata": {},
   "source": [
    "## For"
   ]
  },
  {
   "cell_type": "raw",
   "metadata": {},
   "source": [
    "for element in sequence_of_values:\n",
    " block_of _instructions"
   ]
  },
  {
   "cell_type": "code",
   "execution_count": 17,
   "metadata": {},
   "outputs": [
    {
     "name": "stdout",
     "output_type": "stream",
     "text": [
      "The value of x is 1\n",
      "The value of x is 2\n",
      "The value of x is 3\n",
      "The value of x is 4\n",
      "The value of x is 5\n",
      "The value of x is 6\n",
      "The value of x is 7\n",
      "The value of x is 8\n",
      "The value of x is 9\n",
      "The value of x is 10\n",
      "The value of x is 11\n",
      "The value of x is 12\n",
      "The value of x is 13\n",
      "The value of x is 14\n"
     ]
    }
   ],
   "source": [
    "x = 1\n",
    "while(x < 15):\n",
    "    print(\"The value of x is\", x)\n",
    "    x = x + 1\n"
   ]
  },
  {
   "cell_type": "code",
   "execution_count": 20,
   "metadata": {},
   "outputs": [
    {
     "name": "stdout",
     "output_type": "stream",
     "text": [
      "0\n",
      "1\n",
      "2\n",
      "3\n",
      "4\n",
      "5\n",
      "6\n",
      "7\n",
      "8\n",
      "9\n",
      "10\n",
      "11\n",
      "12\n",
      "13\n",
      "14\n",
      "15\n"
     ]
    }
   ],
   "source": [
    "number = 16\n",
    "for i in range(number):\n",
    "    print(i)"
   ]
  },
  {
   "cell_type": "code",
   "execution_count": 22,
   "metadata": {},
   "outputs": [
    {
     "name": "stdout",
     "output_type": "stream",
     "text": [
      "F\n",
      "a\n",
      "r\n",
      "e\n",
      " \n",
      "W\n",
      "a\n",
      "c\n",
      "a\n"
     ]
    }
   ],
   "source": [
    "for char in \"Fare Waca\":\n",
    "    print(char)"
   ]
  },
  {
   "cell_type": "code",
   "execution_count": 28,
   "metadata": {},
   "outputs": [
    {
     "name": "stdout",
     "output_type": "stream",
     "text": [
      "Try again\n",
      "There you are!!\n",
      "Try again\n",
      "Try again\n",
      "Try again\n",
      "Try again\n",
      "There you are!!\n"
     ]
    }
   ],
   "source": [
    "list_1 = [3, 4, 7, \"day 6\", 90, 8, 4]\n",
    "for i in list_1:\n",
    "    if i == 4:\n",
    "        print(\"There you are!!\")\n",
    "    else:\n",
    "        print(\"Try again\")"
   ]
  },
  {
   "cell_type": "code",
   "execution_count": 40,
   "metadata": {},
   "outputs": [
    {
     "name": "stdout",
     "output_type": "stream",
     "text": [
      "T is a consonant\n",
      "h is a consonant\n",
      "i is a vowel\n",
      "s is a consonant\n",
      "----\n",
      "i is a vowel\n",
      "s is a consonant\n",
      "----\n",
      "t is a consonant\n",
      "h is a consonant\n",
      "e is a vowel\n",
      "----\n",
      "s is a consonant\n",
      "e is a vowel\n",
      "c is a consonant\n",
      "o is a vowel\n",
      "n is a consonant\n",
      "d is a consonant\n",
      "----\n",
      "w is a consonant\n",
      "e is a vowel\n",
      "e is a vowel\n",
      "k is a consonant\n",
      "----\n",
      "o is a vowel\n",
      "f is a consonant\n",
      "----\n",
      "s is a consonant\n",
      "t is a consonant\n",
      "u is a vowel\n",
      "d is a consonant\n",
      "y is a consonant\n",
      "i is a vowel\n",
      "n is a consonant\n",
      "g is a consonant\n",
      "----\n",
      "p is a consonant\n",
      "y is a consonant\n",
      "t is a consonant\n",
      "h is a consonant\n",
      "o is a vowel\n",
      "n is a consonant\n"
     ]
    }
   ],
   "source": [
    "sentence = \"This is the second week of studying python\"\n",
    "for letter in sentence:\n",
    "    if letter in 'AEIOUaeiou':\n",
    "        print (letter, \"is a vowel\")\n",
    "    elif (letter != \" \"):\n",
    "        print(letter, \"is a consonant\")\n",
    "    else:\n",
    "        print(\"----\")"
   ]
  },
  {
   "cell_type": "code",
   "execution_count": 44,
   "metadata": {},
   "outputs": [
    {
     "data": {
      "text/plain": [
       "6"
      ]
     },
     "execution_count": 44,
     "metadata": {},
     "output_type": "execute_result"
    }
   ],
   "source": [
    "word = \"Latifah\"\n",
    "word.find(\"h\")"
   ]
  }
 ],
 "metadata": {
  "kernelspec": {
   "display_name": "Python 3",
   "language": "python",
   "name": "python3"
  },
  "language_info": {
   "codemirror_mode": {
    "name": "ipython",
    "version": 3
   },
   "file_extension": ".py",
   "mimetype": "text/x-python",
   "name": "python",
   "nbconvert_exporter": "python",
   "pygments_lexer": "ipython3",
   "version": "3.13.7"
  }
 },
 "nbformat": 4,
 "nbformat_minor": 2
}
