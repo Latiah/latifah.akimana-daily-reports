{
 "cells": [
  {
   "cell_type": "markdown",
   "id": "254e1411-d64f-4da8-aa2e-bc8d801984a4",
   "metadata": {},
   "source": [
    "## Strings and files"
   ]
  },
  {
   "cell_type": "code",
   "execution_count": 4,
   "id": "d617be67-8bbd-45b8-9d08-d0b495ea91b5",
   "metadata": {},
   "outputs": [],
   "source": [
    "string_1 = \"Will you be at the meeting tonight?\"\n",
    "string_2 = '\"Yes\", He replies.'"
   ]
  },
  {
   "cell_type": "code",
   "execution_count": 5,
   "id": "3de04063-508c-4a30-b098-82742ebb8313",
   "metadata": {},
   "outputs": [
    {
     "name": "stdout",
     "output_type": "stream",
     "text": [
      "Will you be at the meeting tonight?\n"
     ]
    }
   ],
   "source": [
    "print(string_1)"
   ]
  },
  {
   "cell_type": "code",
   "execution_count": 6,
   "id": "1d3a24d8-f934-4ea1-8bd8-2f6813facc40",
   "metadata": {},
   "outputs": [
    {
     "name": "stdout",
     "output_type": "stream",
     "text": [
      "\"Yes\", He replies.\n"
     ]
    }
   ],
   "source": [
    "print(string_2)"
   ]
  },
  {
   "cell_type": "markdown",
   "id": "bcc844e9-7928-4c6e-bb9d-3b41adfb1877",
   "metadata": {},
   "source": [
    "## Indexing"
   ]
  },
  {
   "cell_type": "code",
   "execution_count": 7,
   "id": "632229ff-3833-419a-9b19-e980bc3f4e87",
   "metadata": {},
   "outputs": [
    {
     "data": {
      "text/plain": [
       "'W'"
      ]
     },
     "execution_count": 7,
     "metadata": {},
     "output_type": "execute_result"
    }
   ],
   "source": [
    "string_1[0]"
   ]
  },
  {
   "cell_type": "code",
   "execution_count": 8,
   "id": "77497623-3791-4e2a-858f-34deb0d347de",
   "metadata": {},
   "outputs": [
    {
     "data": {
      "text/plain": [
       "'l'"
      ]
     },
     "execution_count": 8,
     "metadata": {},
     "output_type": "execute_result"
    }
   ],
   "source": [
    "string_1[2]"
   ]
  },
  {
   "cell_type": "code",
   "execution_count": 9,
   "id": "e55b2fd8-82b4-475e-83a0-f72fa212f5bc",
   "metadata": {},
   "outputs": [
    {
     "name": "stdout",
     "output_type": "stream",
     "text": [
      "Will you be at the meeting tonight?\n",
      "The second character of my string is:  i\n",
      "The last character of my string is:  ?\n"
     ]
    }
   ],
   "source": [
    "print(string_1)\n",
    "print(\"The second character of my string is: \", string_1[1])\n",
    "print(\"The last character of my string is: \", string_1[-1])"
   ]
  },
  {
   "cell_type": "markdown",
   "id": "9bd42ade-5cac-4483-9245-35cc309e1fc8",
   "metadata": {},
   "source": [
    "### Slicing"
   ]
  },
  {
   "cell_type": "markdown",
   "id": "b9d26b98-2178-43c1-a4f4-ad1afda36949",
   "metadata": {},
   "source": [
    "```python\n",
    "String[start:stop:step]\n",
    "```"
   ]
  },
  {
   "cell_type": "code",
   "execution_count": 10,
   "id": "e6eb05cb-cc0b-4963-8c38-f67ceee4f57e",
   "metadata": {},
   "outputs": [
    {
     "name": "stdout",
     "output_type": "stream",
     "text": [
      "Will you be at the meeting tonight?\n",
      "l o\n",
      "ll you\n",
      "ll you be at the meeting tonight?\n",
      "Will you be at the meeting tonight?\n",
      "Will you be at the meeting tonight?\n"
     ]
    }
   ],
   "source": [
    "print(string_1)\n",
    "print(string_1[2:8:2])\n",
    "print(string_1[2:8:])\n",
    "print(string_1[2::])\n",
    "print(string_1[::])\n",
    "print(string_1[:])"
   ]
  },
  {
   "cell_type": "code",
   "execution_count": 11,
   "id": "c5ace8c9-3714-4436-9b9b-ac09266162be",
   "metadata": {},
   "outputs": [
    {
     "data": {
      "text/plain": [
       "'l you be at the meeting tonight'"
      ]
     },
     "execution_count": 11,
     "metadata": {},
     "output_type": "execute_result"
    }
   ],
   "source": [
    "string_1[3:-1]"
   ]
  },
  {
   "cell_type": "code",
   "execution_count": 12,
   "id": "b9544d77-4586-4f76-a744-7b69709e1721",
   "metadata": {},
   "outputs": [
    {
     "data": {
      "text/plain": [
       "35"
      ]
     },
     "execution_count": 12,
     "metadata": {},
     "output_type": "execute_result"
    }
   ],
   "source": [
    "len(string_1)"
   ]
  },
  {
   "cell_type": "markdown",
   "id": "2afecd43-bb29-47eb-8270-1d7835660c91",
   "metadata": {},
   "source": [
    "## Concatenation"
   ]
  },
  {
   "cell_type": "code",
   "execution_count": 13,
   "id": "734a5486-719c-42b9-89ce-e20f0f600d3e",
   "metadata": {},
   "outputs": [
    {
     "name": "stdout",
     "output_type": "stream",
     "text": [
      "Hello, World\n",
      "WorldHello, \n"
     ]
    }
   ],
   "source": [
    "var_1 =\"Hello, \"\n",
    "var_2 = \"World\"\n",
    "concat = var_1 + var_2\n",
    "concat1 = var_2 + var_1\n",
    "\n",
    "print(concat)\n",
    "print(concat1)"
   ]
  },
  {
   "cell_type": "code",
   "execution_count": 14,
   "id": "5be17acd-0275-4f2b-b11b-26e4ed0cea3a",
   "metadata": {},
   "outputs": [
    {
     "name": "stdout",
     "output_type": "stream",
     "text": [
      "World\n"
     ]
    }
   ],
   "source": [
    "print(var_2)"
   ]
  },
  {
   "cell_type": "code",
   "execution_count": 15,
   "id": "0b7c948b-c8d0-4cbf-8288-9c0468f49f1b",
   "metadata": {},
   "outputs": [
    {
     "name": "stdout",
     "output_type": "stream",
     "text": [
      "WorldWorld\n"
     ]
    }
   ],
   "source": [
    "print(2*var_2)"
   ]
  },
  {
   "cell_type": "code",
   "execution_count": 16,
   "id": "62c47f2a-9550-45a2-80f5-dfc4edd14a05",
   "metadata": {},
   "outputs": [
    {
     "name": "stdout",
     "output_type": "stream",
     "text": [
      "WorldWorld\n"
     ]
    }
   ],
   "source": [
    "print(2*var_2)"
   ]
  },
  {
   "cell_type": "code",
   "execution_count": 17,
   "id": "fa333c3b-d104-4d08-999a-77893f305650",
   "metadata": {},
   "outputs": [
    {
     "name": "stdout",
     "output_type": "stream",
     "text": [
      "\u001b[31mType:\u001b[39m        int\n",
      "\u001b[31mString form:\u001b[39m 0\n",
      "\u001b[31mDocstring:\u001b[39m  \n",
      "int([x]) -> integer\n",
      "int(x, base=10) -> integer\n",
      "\n",
      "Convert a number or string to an integer, or return 0 if no arguments\n",
      "are given.  If x is a number, return x.__int__().  For floating-point\n",
      "numbers, this truncates towards zero.\n",
      "\n",
      "If x is not a number or if base is given, then x must be a string,\n",
      "bytes, or bytearray instance representing an integer literal in the\n",
      "given base.  The literal can be preceded by '+' or '-' and be surrounded\n",
      "by whitespace.  The base defaults to 10.  Valid bases are 0 and 2-36.\n",
      "Base 0 means to interpret the base from the string as an integer literal.\n",
      ">>> int('0b100', base=0)\n",
      "4"
     ]
    }
   ],
   "source": [
    "val_1 = 4\n",
    "?val_1.imag"
   ]
  },
  {
   "cell_type": "code",
   "execution_count": 18,
   "id": "cb6a7ae0-408e-4236-b97d-a8e18471f48c",
   "metadata": {},
   "outputs": [
    {
     "name": "stdout",
     "output_type": "stream",
     "text": [
      "\u001b[31mType:\u001b[39m        int\n",
      "\u001b[31mString form:\u001b[39m 4\n",
      "\u001b[31mDocstring:\u001b[39m  \n",
      "int([x]) -> integer\n",
      "int(x, base=10) -> integer\n",
      "\n",
      "Convert a number or string to an integer, or return 0 if no arguments\n",
      "are given.  If x is a number, return x.__int__().  For floating-point\n",
      "numbers, this truncates towards zero.\n",
      "\n",
      "If x is not a number or if base is given, then x must be a string,\n",
      "bytes, or bytearray instance representing an integer literal in the\n",
      "given base.  The literal can be preceded by '+' or '-' and be surrounded\n",
      "by whitespace.  The base defaults to 10.  Valid bases are 0 and 2-36.\n",
      "Base 0 means to interpret the base from the string as an integer literal.\n",
      ">>> int('0b100', base=0)\n",
      "4"
     ]
    }
   ],
   "source": [
    "?val_1.numerator"
   ]
  },
  {
   "cell_type": "code",
   "execution_count": 19,
   "id": "30db44d8-3d3d-469d-afe5-68ed30f2007c",
   "metadata": {},
   "outputs": [
    {
     "data": {
      "text/plain": [
       "<function str.encode(encoding='utf-8', errors='strict')>"
      ]
     },
     "execution_count": 19,
     "metadata": {},
     "output_type": "execute_result"
    }
   ],
   "source": [
    "name = \"Latifah\"\n",
    "name.encode"
   ]
  },
  {
   "cell_type": "code",
   "execution_count": 20,
   "id": "ca88a436-9b74-4cd6-b8f1-c867745b6f3a",
   "metadata": {},
   "outputs": [
    {
     "name": "stdout",
     "output_type": "stream",
     "text": [
      "\u001b[31mSignature:\u001b[39m name.encode(encoding=\u001b[33m'utf-8'\u001b[39m, errors=\u001b[33m'strict'\u001b[39m)\n",
      "\u001b[31mDocstring:\u001b[39m\n",
      "Encode the string using the codec registered for encoding.\n",
      "\n",
      "encoding\n",
      "  The encoding in which to encode the string.\n",
      "errors\n",
      "  The error handling scheme to use for encoding errors.\n",
      "  The default is 'strict' meaning that encoding errors raise a\n",
      "  UnicodeEncodeError.  Other possible values are 'ignore', 'replace' and\n",
      "  'xmlcharrefreplace' as well as any other name registered with\n",
      "  codecs.register_error that can handle UnicodeEncodeErrors.\n",
      "\u001b[31mType:\u001b[39m      builtin_function_or_method"
     ]
    }
   ],
   "source": [
    "?name.encode"
   ]
  },
  {
   "cell_type": "code",
   "execution_count": 21,
   "id": "ca4eb7f5-e888-4b03-a538-93514a5e830f",
   "metadata": {},
   "outputs": [
    {
     "data": {
      "text/plain": [
       "b'Latifah'"
      ]
     },
     "execution_count": 21,
     "metadata": {},
     "output_type": "execute_result"
    }
   ],
   "source": [
    "name.encode(encoding='utf-8', errors='strict')"
   ]
  },
  {
   "cell_type": "code",
   "execution_count": 22,
   "id": "37e2faac-d86b-4acc-996a-f5a2c446da68",
   "metadata": {},
   "outputs": [
    {
     "data": {
      "text/plain": [
       "False"
      ]
     },
     "execution_count": 22,
     "metadata": {},
     "output_type": "execute_result"
    }
   ],
   "source": [
    "name.endswith(\"a\")"
   ]
  },
  {
   "cell_type": "code",
   "execution_count": 23,
   "id": "37612d9c-688d-4f91-b2dc-7417131173f1",
   "metadata": {},
   "outputs": [
    {
     "data": {
      "text/plain": [
       "True"
      ]
     },
     "execution_count": 23,
     "metadata": {},
     "output_type": "execute_result"
    }
   ],
   "source": [
    "name.endswith(\"h\")"
   ]
  },
  {
   "cell_type": "code",
   "execution_count": 24,
   "id": "9e2d8c13-74ba-4f4d-b636-671df284bade",
   "metadata": {},
   "outputs": [
    {
     "data": {
      "text/plain": [
       "True"
      ]
     },
     "execution_count": 24,
     "metadata": {},
     "output_type": "execute_result"
    }
   ],
   "source": [
    "name.isalnum()"
   ]
  },
  {
   "cell_type": "code",
   "execution_count": 25,
   "id": "77cb5fee-1f28-44a5-8fe2-9b3a82f149d8",
   "metadata": {},
   "outputs": [
    {
     "name": "stdout",
     "output_type": "stream",
     "text": [
      "\u001b[31mSignature:\u001b[39m name.translate(table, /)\n",
      "\u001b[31mDocstring:\u001b[39m\n",
      "Replace each character in the string using the given translation table.\n",
      "\n",
      "  table\n",
      "    Translation table, which must be a mapping of Unicode ordinals to\n",
      "    Unicode ordinals, strings, or None.\n",
      "\n",
      "The table must implement lookup/indexing via __getitem__, for instance a\n",
      "dictionary or list.  If this operation raises LookupError, the character is\n",
      "left untouched.  Characters mapped to None are deleted.\n",
      "\u001b[31mType:\u001b[39m      builtin_function_or_method"
     ]
    }
   ],
   "source": [
    "?name.translate"
   ]
  },
  {
   "cell_type": "code",
   "execution_count": 26,
   "id": "a07348b5-46af-43d2-9fdc-24458c4ca08d",
   "metadata": {},
   "outputs": [
    {
     "data": {
      "text/plain": [
       "'LATIFAH'"
      ]
     },
     "execution_count": 26,
     "metadata": {},
     "output_type": "execute_result"
    }
   ],
   "source": [
    "name.upper()"
   ]
  },
  {
   "cell_type": "code",
   "execution_count": 27,
   "id": "7deb0576-92d3-409f-9651-e590db76f95b",
   "metadata": {},
   "outputs": [
    {
     "name": "stdout",
     "output_type": "stream",
     "text": [
      "\u001b[31mSignature:\u001b[39m name.center(width, fillchar=\u001b[33m' '\u001b[39m, /)\n",
      "\u001b[31mDocstring:\u001b[39m\n",
      "Return a centered string of length width.\n",
      "\n",
      "Padding is done using the specified fill character (default is a space).\n",
      "\u001b[31mType:\u001b[39m      builtin_function_or_method"
     ]
    }
   ],
   "source": [
    "?name.center"
   ]
  },
  {
   "cell_type": "code",
   "execution_count": 28,
   "id": "dc80cda3-c149-4a40-88f1-9ffd65307c0a",
   "metadata": {},
   "outputs": [
    {
     "data": {
      "text/plain": [
       "'Latifah'"
      ]
     },
     "execution_count": 28,
     "metadata": {},
     "output_type": "execute_result"
    }
   ],
   "source": [
    "name.expandtabs(9)"
   ]
  },
  {
   "cell_type": "code",
   "execution_count": 29,
   "id": "c9f14e56-aa8a-4a2a-971e-6170e56a0d9e",
   "metadata": {},
   "outputs": [
    {
     "name": "stdout",
     "output_type": "stream",
     "text": [
      "\u001b[31mSignature:\u001b[39m name.expandtabs(tabsize=\u001b[32m8\u001b[39m)\n",
      "\u001b[31mDocstring:\u001b[39m\n",
      "Return a copy where all tab characters are expanded using spaces.\n",
      "\n",
      "If tabsize is not given, a tab size of 8 characters is assumed.\n",
      "\u001b[31mType:\u001b[39m      builtin_function_or_method"
     ]
    }
   ],
   "source": [
    "?name.expandtabs"
   ]
  },
  {
   "cell_type": "code",
   "execution_count": 30,
   "id": "9f46e55d-8dd6-4861-8918-0dc2ac7e57a9",
   "metadata": {},
   "outputs": [
    {
     "data": {
      "text/plain": [
       "7"
      ]
     },
     "execution_count": 30,
     "metadata": {},
     "output_type": "execute_result"
    }
   ],
   "source": [
    "len(name)"
   ]
  },
  {
   "cell_type": "code",
   "execution_count": 31,
   "id": "29bcb0d3-8f5f-4a31-aba4-cc17de39884b",
   "metadata": {},
   "outputs": [
    {
     "data": {
      "text/plain": [
       "6"
      ]
     },
     "execution_count": 31,
     "metadata": {},
     "output_type": "execute_result"
    }
   ],
   "source": [
    "name.find(\"h\")"
   ]
  },
  {
   "cell_type": "code",
   "execution_count": 32,
   "id": "9936cfcf-7572-47c8-9f1b-79ffaddaa637",
   "metadata": {},
   "outputs": [
    {
     "name": "stdout",
     "output_type": "stream",
     "text": [
      "\u001b[31mDocstring:\u001b[39m\n",
      "Return the lowest index in S where substring sub is found, such that sub is contained within S[start:end].\n",
      "\n",
      "Optional arguments start and end are interpreted as in slice notation.\n",
      "Return -1 on failure.\n",
      "\u001b[31mType:\u001b[39m      builtin_function_or_method"
     ]
    }
   ],
   "source": [
    "?name.find"
   ]
  },
  {
   "cell_type": "code",
   "execution_count": 33,
   "id": "0b1d6a62-9dae-40d1-a326-8650ddd89e3a",
   "metadata": {},
   "outputs": [
    {
     "data": {
      "text/plain": [
       "-1"
      ]
     },
     "execution_count": 33,
     "metadata": {},
     "output_type": "execute_result"
    }
   ],
   "source": [
    "name.find(\"g\")"
   ]
  },
  {
   "cell_type": "code",
   "execution_count": 34,
   "id": "da8e7e50-8040-49b8-a2da-801e848d66af",
   "metadata": {},
   "outputs": [
    {
     "data": {
      "text/plain": [
       "False"
      ]
     },
     "execution_count": 34,
     "metadata": {},
     "output_type": "execute_result"
    }
   ],
   "source": [
    "name.islower()"
   ]
  },
  {
   "cell_type": "code",
   "execution_count": 35,
   "id": "0b778f07-b08e-47dc-99d5-d4a7cb781c1a",
   "metadata": {},
   "outputs": [
    {
     "name": "stdout",
     "output_type": "stream",
     "text": [
      "\u001b[31mSignature:\u001b[39m name.islower()\n",
      "\u001b[31mDocstring:\u001b[39m\n",
      "Return True if the string is a lowercase string, False otherwise.\n",
      "\n",
      "A string is lowercase if all cased characters in the string are lowercase and\n",
      "there is at least one cased character in the string.\n",
      "\u001b[31mType:\u001b[39m      builtin_function_or_method"
     ]
    }
   ],
   "source": [
    "?name.islower"
   ]
  },
  {
   "cell_type": "code",
   "execution_count": 36,
   "id": "ab2edc35-8384-472c-a2af-6bd5d761223f",
   "metadata": {},
   "outputs": [
    {
     "data": {
      "text/plain": [
       "['Latifah']"
      ]
     },
     "execution_count": 36,
     "metadata": {},
     "output_type": "execute_result"
    }
   ],
   "source": [
    "name.split()"
   ]
  },
  {
   "cell_type": "code",
   "execution_count": 37,
   "id": "51833ae3-ed2a-4037-90cf-99cf542b8873",
   "metadata": {},
   "outputs": [
    {
     "name": "stdout",
     "output_type": "stream",
     "text": [
      "\u001b[31mSignature:\u001b[39m name.split(sep=\u001b[38;5;28;01mNone\u001b[39;00m, maxsplit=-\u001b[32m1\u001b[39m)\n",
      "\u001b[31mDocstring:\u001b[39m\n",
      "Return a list of the substrings in the string, using sep as the separator string.\n",
      "\n",
      "  sep\n",
      "    The separator used to split the string.\n",
      "\n",
      "    When set to None (the default value), will split on any whitespace\n",
      "    character (including \\n \\r \\t \\f and spaces) and will discard\n",
      "    empty strings from the result.\n",
      "  maxsplit\n",
      "    Maximum number of splits.\n",
      "    -1 (the default value) means no limit.\n",
      "\n",
      "Splitting starts at the front of the string and works to the end.\n",
      "\n",
      "Note, str.split() is mainly useful for data that has been intentionally\n",
      "delimited.  With natural text that includes punctuation, consider using\n",
      "the regular expression module.\n",
      "\u001b[31mType:\u001b[39m      builtin_function_or_method"
     ]
    }
   ],
   "source": [
    "?name.split"
   ]
  },
  {
   "cell_type": "code",
   "execution_count": 38,
   "id": "2ff07e24-1fae-4469-85d7-e9c17f6df573",
   "metadata": {},
   "outputs": [
    {
     "name": "stdout",
     "output_type": "stream",
     "text": [
      "['Winn', 'er', 's']\n",
      "9\n"
     ]
    }
   ],
   "source": [
    "word_1 = \"Winn er s\"\n",
    "\n",
    "print(word_1.split(sep= None, maxsplit=-1))\n",
    "print(len(word_1))"
   ]
  },
  {
   "cell_type": "code",
   "execution_count": 39,
   "id": "42a039be-1f70-4fba-a177-34ba210a0b0a",
   "metadata": {},
   "outputs": [],
   "source": [
    "word_2 = \"Wil low kiwi\"\n"
   ]
  },
  {
   "cell_type": "code",
   "execution_count": 40,
   "id": "699e99c7-3d1a-44e4-8958-9364081d8bc1",
   "metadata": {},
   "outputs": [
    {
     "data": {
      "text/plain": [
       "['Wil low kiwi']"
      ]
     },
     "execution_count": 40,
     "metadata": {},
     "output_type": "execute_result"
    }
   ],
   "source": [
    "word_2.split(sep=\"\\t\", maxsplit = -1)"
   ]
  },
  {
   "cell_type": "code",
   "execution_count": 44,
   "id": "c777febf-d74a-4b71-babb-1467756e704f",
   "metadata": {},
   "outputs": [
    {
     "name": "stdout",
     "output_type": "stream",
     "text": [
      "Latifah.jpeg                         latifah.akimana-day01-report.ipynb\n",
      "README.md                            latifah.akimana-day02-report.ipynb\n",
      "command_mode.png                     latifah.akimana-day03-report .ipynb\n",
      "edit_mode.png                        menubar_toolbar.png\n",
      "latifah.akimana-day00-report.ipynb\n"
     ]
    }
   ],
   "source": [
    "ls"
   ]
  },
  {
   "cell_type": "code",
   "execution_count": 46,
   "id": "9ee506e4-7e0e-401e-865c-0994a2ef9715",
   "metadata": {},
   "outputs": [],
   "source": [
    "write_to_file = open('outfile.txt', 'w')\n",
    "write_to_file.write(\"Python programming is in block 2 \\n\")\n",
    "write_to_file.write(\"Python programming will also be in block 3 \\n\")\n",
    "write_to_file.write(\"Python programming will also be in block 4 \\n\")\n",
    "write_to_file.write(\"Python programming will also be block 5\")\n",
    "write_to_file.close()"
   ]
  },
  {
   "cell_type": "code",
   "execution_count": 47,
   "id": "8d2c5608-3f71-4acd-8230-1b413cafa71a",
   "metadata": {},
   "outputs": [
    {
     "data": {
      "text/plain": [
       "['Python programming is in block 2 \\n',\n",
       " 'Python programming will also be in block 3 \\n',\n",
       " 'Python programming will also be in block 4 \\n',\n",
       " 'Python programming will also be block 5']"
      ]
     },
     "execution_count": 47,
     "metadata": {},
     "output_type": "execute_result"
    }
   ],
   "source": [
    "write_to_file = open('outfile.txt', 'r')\n",
    "write_to_file.readlines()"
   ]
  }
 ],
 "metadata": {
  "kernelspec": {
   "display_name": "Python 3",
   "language": "python",
   "name": "python3"
  },
  "language_info": {
   "codemirror_mode": {
    "name": "ipython",
    "version": 3
   },
   "file_extension": ".py",
   "mimetype": "text/x-python",
   "name": "python",
   "nbconvert_exporter": "python",
   "pygments_lexer": "ipython3",
   "version": "3.13.7"
  }
 },
 "nbformat": 4,
 "nbformat_minor": 5
}
