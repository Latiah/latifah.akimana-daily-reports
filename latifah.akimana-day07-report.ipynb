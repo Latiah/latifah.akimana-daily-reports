{
 "cells": [
  {
   "cell_type": "markdown",
   "metadata": {},
   "source": [
    "# <center>Flow control</center>"
   ]
  },
  {
   "cell_type": "markdown",
   "metadata": {},
   "source": [
    "### Functions"
   ]
  },
  {
   "cell_type": "markdown",
   "metadata": {},
   "source": [
    "## built in functions"
   ]
  },
  {
   "cell_type": "markdown",
   "metadata": {},
   "source": [
    "### Examples of what we have been using: input and print "
   ]
  },
  {
   "cell_type": "markdown",
   "metadata": {},
   "source": [
    "User-defined\n",
    " "
   ]
  },
  {
   "cell_type": "code",
   "execution_count": null,
   "metadata": {},
   "outputs": [],
   "source": [
    "def functionName(parameter1, parameter2, parameterN):\n",
    "    \"\"\"\" Documentation \"\"\"\n"
   ]
  },
  {
   "cell_type": "code",
   "execution_count": null,
   "metadata": {},
   "outputs": [
    {
     "name": "stdout",
     "output_type": "stream",
     "text": [
      "1 x 8 = 8\n",
      "2 x 8 = 16\n",
      "3 x 8 = 24\n",
      "4 x 8 = 32\n",
      "5 x 8 = 40\n",
      "6 x 8 = 48\n",
      "7 x 8 = 56\n",
      "8 x 8 = 64\n",
      "9 x 8 = 72\n",
      "10 x 8 = 80\n",
      "11 x 8 = 88\n",
      "12 x 8 = 96\n",
      "13 x 8 = 104\n",
      "14 x 8 = 112\n",
      "15 x 8 = 120\n",
      "16 x 8 = 128\n",
      "17 x 8 = 136\n",
      "18 x 8 = 144\n",
      "19 x 8 = 152\n",
      "20 x 8 = 160\n"
     ]
    }
   ],
   "source": [
    "def multiplication_table():\n",
    "    n = 1\n",
    "    while n<=20:\n",
    "        result = n*8\n",
    "        print(n, \"x\", 8, \"=\", result, sep = ' ')\n",
    "        n = n+1\n",
    "multiplication_table()"
   ]
  },
  {
   "cell_type": "code",
   "execution_count": 12,
   "metadata": {},
   "outputs": [
    {
     "name": "stdout",
     "output_type": "stream",
     "text": [
      "multiplication table of 9\n",
      "***************\n",
      " 1 X  9 =   9\n",
      " 2 X  9 =  18\n",
      " 3 X  9 =  27\n",
      " 4 X  9 =  36\n",
      " 5 X  9 =  45\n",
      " 6 X  9 =  54\n",
      " 7 X  9 =  63\n",
      " 8 X  9 =  72\n",
      " 9 X  9 =  81\n",
      "10 X  9 =  90\n",
      "11 X  9 =  99\n",
      "12 X  9 = 108\n",
      "***************\n"
     ]
    }
   ],
   "source": [
    "def multiplication_tables(n):\n",
    "    print(f\"multiplication table of {n}\")\n",
    "    print(\"*\"*15)\n",
    "    for i in range(1, 13):\n",
    "        result = i * n\n",
    "        print(f\"{i:2} X {n:2} = {result:3}\")\n",
    "multiplication_tables(9)\n",
    "print(\"*\"*15)"
   ]
  },
  {
   "cell_type": "code",
   "execution_count": 13,
   "metadata": {},
   "outputs": [
    {
     "data": {
      "text/plain": [
       "16"
      ]
     },
     "execution_count": 13,
     "metadata": {},
     "output_type": "execute_result"
    }
   ],
   "source": [
    "def square(n):\n",
    "    return n**2\n",
    "square(4)"
   ]
  },
  {
   "cell_type": "markdown",
   "metadata": {},
   "source": [
    "### Square"
   ]
  },
  {
   "cell_type": "code",
   "execution_count": 14,
   "metadata": {},
   "outputs": [],
   "source": [
    "def square2(x):\n",
    "    \"\"\"\n",
    "    This function calculates the sqaure of a given number.\n",
    "    Input: The number x you want to square\n",
    "    Output: The square of the entered number\n",
    "    \n",
    "    \"\"\"\n",
    "    return x**2"
   ]
  },
  {
   "cell_type": "code",
   "execution_count": 15,
   "metadata": {},
   "outputs": [
    {
     "data": {
      "text/plain": [
       "25"
      ]
     },
     "execution_count": 15,
     "metadata": {},
     "output_type": "execute_result"
    }
   ],
   "source": [
    "square2(5)"
   ]
  },
  {
   "cell_type": "markdown",
   "metadata": {},
   "source": [
    "### Area of A rectangle"
   ]
  },
  {
   "cell_type": "code",
   "execution_count": 18,
   "metadata": {},
   "outputs": [
    {
     "name": "stdout",
     "output_type": "stream",
     "text": [
      "L = 2, W = 5\n",
      "Area = 10\n"
     ]
    }
   ],
   "source": [
    "def area_rectangle(l, w):\n",
    "    \"\"\"\n",
    "    This function calculates the area of a square.\n",
    "    Inputs: Length and Width\n",
    "    Output: Returns area of a rectangle\n",
    "    \"\"\"\n",
    "    area = l * w\n",
    "    print(f\"L = {l}, W = {w}\")\n",
    "\n",
    "    print(f\"Area = {area}\")\n",
    "area_rectangle(2,5)"
   ]
  },
  {
   "cell_type": "code",
   "execution_count": null,
   "metadata": {},
   "outputs": [],
   "source": [
    "def area_rectangle(l, w):\n",
    "    \"\"\"\n",
    "    This function calculates the area of a square.\n",
    "    Inputs: Length and Width\n",
    "    Output: Returns area of a rectangle\n",
    "    \"\"\"\n",
    "    area = l * w\n",
    "    print(f\"L = {l}, W = {w}\")\n",
    "\n",
    "    print(f\"Area = {area}\")\n",
    "area_rectangle(2,5)"
   ]
  }
 ],
 "metadata": {
  "kernelspec": {
   "display_name": "Python 3",
   "language": "python",
   "name": "python3"
  },
  "language_info": {
   "codemirror_mode": {
    "name": "ipython",
    "version": 3
   },
   "file_extension": ".py",
   "mimetype": "text/x-python",
   "name": "python",
   "nbconvert_exporter": "python",
   "pygments_lexer": "ipython3",
   "version": "3.13.7"
  }
 },
 "nbformat": 4,
 "nbformat_minor": 2
}
